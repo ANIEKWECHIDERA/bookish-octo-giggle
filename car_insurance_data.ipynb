{
 "cells": [
  {
   "cell_type": "code",
   "execution_count": 1,
   "metadata": {},
   "outputs": [],
   "source": [
    "import pandas as pd\n",
    "import matplotlib.pyplot as plt\n",
    "import seaborn as sns\n"
   ]
  },
  {
   "cell_type": "code",
   "execution_count": 2,
   "metadata": {},
   "outputs": [],
   "source": [
    "car_insurance_data = pd.read_excel(r\"C:\\Users\\chide\\Documents\\Datasets\\Onyx Data DataDNA Dataset Challenge - Car Insurance Policies - August 2023\\Onyx Data DataDNA Dataset Challenge - Car Insurance Policies - August 2023.xlsx\", sheet_name = 'Insurance Policies')\n"
   ]
  },
  {
   "cell_type": "code",
   "execution_count": 3,
   "metadata": {},
   "outputs": [],
   "source": [
    "pd.set_option('display.max_rows', None)"
   ]
  },
  {
   "cell_type": "code",
   "execution_count": 4,
   "metadata": {},
   "outputs": [
    {
     "data": {
      "text/plain": [
       "Index(['ID', 'birthdate', 'marital_status', 'car_use', 'gender',\n",
       "       'kids_driving', 'parent', 'education', 'car_make', 'car_model',\n",
       "       'car_color', 'car_year', 'claim_freq', 'coverage_zone', 'claim_amt',\n",
       "       'household_income', 'Column1', 'Unnamed: 17'],\n",
       "      dtype='object')"
      ]
     },
     "execution_count": 4,
     "metadata": {},
     "output_type": "execute_result"
    }
   ],
   "source": [
    "car_insurance_data.columns"
   ]
  },
  {
   "cell_type": "code",
   "execution_count": 5,
   "metadata": {},
   "outputs": [
    {
     "data": {
      "image/png": "[encoded data removed]",
      "text/plain": [
       "<Figure size 640x480 with 1 Axes>"
      ]
     },
     "metadata": {},
     "output_type": "display_data"
    }
   ],
   "source": [
    "data = car_insurance_data['car_use'].value_counts()\n",
    "x = data.index\n",
    "y = data.values\n",
    "plt.bar(x, y)\n",
    "plt.show()"
   ]
  },
  {
   "cell_type": "code",
   "execution_count": 6,
   "metadata": {},
   "outputs": [
    {
     "data": {
      "text/plain": [
       "array([30060,  7482], dtype=int64)"
      ]
     },
     "execution_count": 6,
     "metadata": {},
     "output_type": "execute_result"
    }
   ],
   "source": [
    "y"
   ]
  },
  {
   "cell_type": "code",
   "execution_count": 7,
   "metadata": {},
   "outputs": [
    {
     "data": {
      "text/plain": [
       "array(['Dodge', 'Ford', 'Volvo', 'Ram', 'Mercedes-Benz', 'Plymouth',\n",
       "       'Buick', 'Mercury', 'BMW', 'Nissan', 'Audi', 'Infiniti', 'Pontiac',\n",
       "       'Volkswagen', 'Mazda', 'Maserati', 'Chevrolet', 'Rambler',\n",
       "       'Maybach', 'Isuzu', 'Mitsubishi', 'Acura', 'Chrysler', 'Toyota',\n",
       "       'Hyundai', 'Suzuki', 'Kia', 'Jaguar', 'Porsche', 'GMC', 'Subaru',\n",
       "       'Honda', 'Aston Martin', 'Jeep', 'MINI', 'Lexus', 'Saab', 'Spyker',\n",
       "       'Lincoln', 'Lotus', 'Geo', 'Bentley', 'Hummer', 'Land Rover',\n",
       "       'Scion', 'Ferrari', 'Cadillac', 'Lamborghini', 'Eagle', 'Saturn',\n",
       "       'Daewoo', 'Oldsmobile', 'Smart', 'CitroÃ«n', 'Tesla', 'Studebaker',\n",
       "       'Daihatsu', 'Renault', 'Peugeot', 'Corbin', 'Rolls-Royce',\n",
       "       'Bugatti', 'Morgan', 'Alfa Romeo', 'Fiat', 'Austin', 'MG',\n",
       "       'Holden', 'Foose', 'Panoz', 'Fairthorpe', 'Shelby', 'Fillmore',\n",
       "       'Merkur', 'Aptera', 'Jensen', 'McLaren', 'Hillman'], dtype=object)"
      ]
     },
     "execution_count": 7,
     "metadata": {},
     "output_type": "execute_result"
    }
   ],
   "source": [
    "unique_car_make_data = car_insurance_data['car_make'].unique()\n",
    "unique_car_make_data"
   ]
  },
  {
   "cell_type": "code",
   "execution_count": 8,
   "metadata": {},
   "outputs": [
    {
     "data": {
      "text/plain": [
       "78"
      ]
     },
     "execution_count": 8,
     "metadata": {},
     "output_type": "execute_result"
    }
   ],
   "source": [
    "count_car_make_data = car_insurance_data['car_make'].nunique()\n",
    "count_car_make_data"
   ]
  },
  {
   "cell_type": "code",
   "execution_count": 9,
   "metadata": {},
   "outputs": [
    {
     "data": {
      "text/plain": [
       "car_make\n",
       "Ford             3302\n",
       "Chevrolet        2954\n",
       "Dodge            1843\n",
       "Toyota           1809\n",
       "GMC              1751\n",
       "Mitsubishi       1412\n",
       "Pontiac          1372\n",
       "Mazda            1363\n",
       "Mercedes-Benz    1335\n",
       "Volkswagen       1226\n",
       "Nissan           1150\n",
       "BMW              1120\n",
       "Buick             999\n",
       "Audi              993\n",
       "Honda             959\n",
       "Lexus             842\n",
       "Mercury           829\n",
       "Cadillac          706\n",
       "Volvo             695\n",
       "Hyundai           678\n",
       "Chrysler          670\n",
       "Subaru            666\n",
       "Lincoln           650\n",
       "Acura             615\n",
       "Suzuki            594\n",
       "Infiniti          522\n",
       "Kia               497\n",
       "Jeep              480\n",
       "Porsche           479\n",
       "Land Rover        477\n",
       "Oldsmobile        441\n",
       "Isuzu             371\n",
       "Saab              368\n",
       "Jaguar            314\n",
       "Plymouth          313\n",
       "Bentley           249\n",
       "Saturn            234\n",
       "Lotus             224\n",
       "Maserati          211\n",
       "Lamborghini       200\n",
       "Aston Martin      197\n",
       "Hummer            160\n",
       "Scion             147\n",
       "Maybach           138\n",
       "MINI              124\n",
       "Geo               110\n",
       "Eagle             105\n",
       "Ferrari           102\n",
       "Rolls-Royce        62\n",
       "Daewoo             53\n",
       "Spyker             46\n",
       "Alfa Romeo         40\n",
       "Ram                37\n",
       "Austin             29\n",
       "Smart              24\n",
       "Morgan             21\n",
       "Holden             21\n",
       "Fiat               19\n",
       "Studebaker         18\n",
       "Daihatsu           18\n",
       "CitroÃ«n           17\n",
       "Panoz              15\n",
       "Tesla              13\n",
       "Bugatti            12\n",
       "Jensen             12\n",
       "Foose              11\n",
       "Corbin             10\n",
       "Aptera             10\n",
       "McLaren            10\n",
       "Shelby              9\n",
       "Peugeot             9\n",
       "Fillmore            5\n",
       "Merkur              5\n",
       "MG                  5\n",
       "Renault             5\n",
       "Rambler             5\n",
       "Hillman             3\n",
       "Fairthorpe          2\n",
       "Name: count, dtype: int64"
      ]
     },
     "execution_count": 9,
     "metadata": {},
     "output_type": "execute_result"
    }
   ],
   "source": [
    "pd.set_option('display.max_rows', None)\n",
    "car_make_data = car_insurance_data['car_make'].value_counts()\n",
    "car_make_data"
   ]
  },
  {
   "cell_type": "code",
   "execution_count": 13,
   "metadata": {},
   "outputs": [
    {
     "data": {
      "image/png": "[encoded data removed]",
      "text/plain": [
       "<Figure size 1000x600 with 1 Axes>"
      ]
     },
     "metadata": {},
     "output_type": "display_data"
    }
   ],
   "source": [
    "education_claim_freq = car_insurance_data.groupby('car_use')['claim_freq'].sum().sort_values()\n",
    "\n",
    "# Create a bar plot to visualize the relationship\n",
    "plt.figure(figsize=(10, 6))\n",
    "sns.barplot(x=education_claim_freq.index, y=education_claim_freq.values)\n",
    "plt.xlabel('Education Level')\n",
    "plt.ylabel('Average Claim Frequency')\n",
    "plt.title('Relationship Between Education and Average Claim Frequency')\n",
    "plt.tight_layout()\n",
    "plt.show()"
   ]
  },
  {
   "cell_type": "code",
   "execution_count": 12,
   "metadata": {},
   "outputs": [
    {
     "data": {
      "text/plain": [
       "car_use\n",
       "Commercial    0.498663\n",
       "Private       0.513207\n",
       "Name: claim_freq, dtype: float64"
      ]
     },
     "execution_count": 12,
     "metadata": {},
     "output_type": "execute_result"
    }
   ],
   "source": [
    "education_claim_freq \n"
   ]
  },
  {
   "cell_type": "code",
   "execution_count": 15,
   "metadata": {},
   "outputs": [
    {
     "data": {
      "text/plain": [
       "car_use\n",
       "Commercial     3731\n",
       "Private       15427\n",
       "Name: claim_freq, dtype: int64"
      ]
     },
     "execution_count": 15,
     "metadata": {},
     "output_type": "execute_result"
    }
   ],
   "source": [
    "claims_by_car_use = car_insurance_data.groupby('car_use')['claim_freq'].sum()\n",
    "claims_by_car_use"
   ]
  },
  {
   "cell_type": "code",
   "execution_count": 26,
   "metadata": {},
   "outputs": [],
   "source": [
    "filtered_df = car_insurance_data[car_insurance_data['claim_freq'] > 3]"
   ]
  },
  {
   "cell_type": "code",
   "execution_count": 27,
   "metadata": {},
   "outputs": [
    {
     "data": {
      "text/plain": [
       "car_use\n",
       "Commercial     288\n",
       "Private       1150\n",
       "dtype: int64"
      ]
     },
     "execution_count": 27,
     "metadata": {},
     "output_type": "execute_result"
    }
   ],
   "source": [
    "claims_by_car_use = filtered_df.groupby('car_use').size()\n",
    "claims_by_car_use"
   ]
  },
  {
   "cell_type": "code",
   "execution_count": 17,
   "metadata": {},
   "outputs": [
    {
     "data": {
      "text/plain": [
       "19158"
      ]
     },
     "execution_count": 17,
     "metadata": {},
     "output_type": "execute_result"
    }
   ],
   "source": [
    "total_claims = car_insurance_data['claim_freq'].sum()\n",
    "total_claims"
   ]
  },
  {
   "cell_type": "code",
   "execution_count": 1,
   "metadata": {},
   "outputs": [
    {
     "name": "stdout",
     "output_type": "stream",
     "text": [
      "[12, 3, 35, 46]\n"
     ]
    }
   ],
   "source": [
    "print([12,3,35,46])"
   ]
  },
  {
   "cell_type": "code",
   "execution_count": 2,
   "metadata": {},
   "outputs": [
    {
     "name": "stdout",
     "output_type": "stream",
     "text": [
      "helloworld\n"
     ]
    }
   ],
   "source": [
    "print('hello' + 'world')"
   ]
  },
  {
   "cell_type": "code",
   "execution_count": null,
   "metadata": {},
   "outputs": [],
   "source": []
  }
 ],
 "metadata": {
  "kernelspec": {
   "display_name": "Python 3",
   "language": "python",
   "name": "python3"
  },
  "language_info": {
   "codemirror_mode": {
    "name": "ipython",
    "version": 3
   },
   "file_extension": ".py",
   "mimetype": "text/x-python",
   "name": "python",
   "nbconvert_exporter": "python",
   "pygments_lexer": "ipython3",
   "version": "3.10.11"
  },
  "orig_nbformat": 4
 },
 "nbformat": 4,
 "nbformat_minor": 2
}
